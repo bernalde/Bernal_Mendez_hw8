{
 "metadata": {
  "name": "",
  "signature": "sha256:1018a742ae320c7773acd74872f7a18119939ec2a948c0e89b63001bdaf9344d"
 },
 "nbformat": 3,
 "nbformat_minor": 0,
 "worksheets": [
  {
   "cells": [
    {
     "cell_type": "code",
     "collapsed": false,
     "input": [
      "%pylab inline\n",
      "import matplotlib.pyplot as plt\n",
      "from scipy import fftpack\n",
      "from scipy.fftpack import fft, fftfreq\n",
      "import numpy as np\n",
      "from numpy import pi\n",
      "from scipy import fftpack"
     ],
     "language": "python",
     "metadata": {},
     "outputs": [
      {
       "output_type": "stream",
       "stream": "stdout",
       "text": [
        "Populating the interactive namespace from numpy and matplotlib\n"
       ]
      },
      {
       "output_type": "stream",
       "stream": "stderr",
       "text": [
        "WARNING: pylab import has clobbered these variables: ['fftpack', 'f', 'fft']\n",
        "`%matplotlib` prevents importing * from pylab and numpy\n"
       ]
      }
     ],
     "prompt_number": 108
    },
    {
     "cell_type": "code",
     "collapsed": false,
     "input": [
      "\n",
      "\n",
      "\n"
     ],
     "language": "python",
     "metadata": {},
     "outputs": []
    },
    {
     "cell_type": "heading",
     "level": 1,
     "metadata": {},
     "source": [
      "nuevas vesiculas"
     ]
    },
    {
     "cell_type": "code",
     "collapsed": false,
     "input": [
      "%pylab inline\n",
      "import matplotlib.pyplot as plt\n",
      "from scipy import fftpack\n",
      "from scipy.fftpack import fft, fftfreq\n",
      "import numpy as np\n",
      "from numpy import pi\n",
      "from scipy import fftpack\n"
     ],
     "language": "python",
     "metadata": {},
     "outputs": []
    },
    {
     "cell_type": "code",
     "collapsed": false,
     "input": [
      "t= np.linspace(-10, 10, 2000)\n",
      "bump = np.exp(-(2*(t**2)))\n",
      "bump = bump / np.trapz(bump) \n",
      "\n",
      "Kernel = bump[:, np.newaxis] * bump[np.newaxis, :]\n",
      "\n",
      "Kernel_ft = fftpack.fft2(Kernel, shape=Im1.shape[:2], axes=(0, 1))\n",
      "Kernel_ft_shift=fftpack.fftshift(Kernel_ft)\n",
      "\n",
      "Img_ft = fftpack.fft2(Im1, axes=(0, 1))\n",
      "Img2_ft = (Kernel_ft[:, :]) * Img_ft\n",
      "Img2 = fftpack.ifft2(Img2_ft, axes=(0, 1)).real\n",
      "fig = figure(2, figsize=(10.5,8.5))\n",
      "imshow(np.abs((Img2[:,:])), cmap = cm.Greys_r)\n",
      "plt.title('filtro suave que pasa frecuencias bajas', fontsize=12)\n",
      "Im1=Img2"
     ],
     "language": "python",
     "metadata": {},
     "outputs": []
    },
    {
     "cell_type": "code",
     "collapsed": false,
     "input": [
      "f = open('vesiculoide.dat', 'w') \n",
      "print f\n",
      "\n",
      "Im2 = zeros((xf, yf))\n",
      "for i in range(1,xf-1):\n",
      "    for j in range(1, yf-1):\n",
      "        Hss=zeros((2,2))\n",
      "        Hss[0,0]=Im1[i+1,j] + Im1[i-1,j] - Im1[i,j] - Im1[i,j]\n",
      "        Hss[1,1]=Im1[i,j+1] + Im1[i,j-1]- Im1[i,j]- Im1[i,j]\n",
      "        Hss[1,0]=(Im1[i+1,j+1]+Im1[i-1,j-1]+Im1[i,j]+Im1[i,j]-Im1[i+1,j]-Im1[i-1,j]-Im1[i,j+1]-Im1[i,j-1])/2.0\n",
      "        Hss[0,1]=Hss[1,0]\n",
      "        eigenvalues, eigenvectors = eig(Hss)\n",
      "        d= abs(eigenvalues[0] +eigenvalues[1] )\n",
      "        g=abs(eigenvalues[0]*eigenvalues[1] )\n",
      "        if(g >3e-161) & (i> 20) &(i<300):\n",
      "            Im2[i,j]=1\n",
      "            f.write(str(i))\n",
      "            f.write(' ')\n",
      "            f.write(str(j))\n",
      "            f.write(' ')\n",
      "            f.write('\\n')\n",
      "           \n",
      "       \n",
      "fig = figure(1, figsize=(10.5,8.5))\n",
      "imshow(Im2[:,:])"
     ],
     "language": "python",
     "metadata": {},
     "outputs": []
    },
    {
     "cell_type": "code",
     "collapsed": false,
     "input": [
      "print amax(Im2[:,:]) \n",
      "print amin(Im2[:,:]) \n",
      "datos = np.loadtxt(\"vesiculoide.dat\")\n",
      "\n",
      "x = datos[:,0]\n",
      "y = datos[:,1]"
     ],
     "language": "python",
     "metadata": {},
     "outputs": []
    },
    {
     "cell_type": "code",
     "collapsed": false,
     "input": [
      "from scipy.interpolate import interp1d\n",
      "from scipy import interpolate\n",
      "tck,u = interpolate.splprep([x,y], s=0)\n",
      "unew = np.arange(0, 1.01, 0.01)\n",
      "out = interpolate.splev(unew, tck)\n",
      "plt.figure()\n",
      "plt.scatter(x, y)"
     ],
     "language": "python",
     "metadata": {},
     "outputs": []
    },
    {
     "cell_type": "code",
     "collapsed": false,
     "input": [
      "f = open('hessian.dat', 'w') \n",
      "print f\n",
      "\n",
      "for i in range(1,xf-1):\n",
      "    for j in range(1, yf-1):\n",
      "        Hss=zeros((2,2))\n",
      "        Hss[0,0]=Im1[i+1,j] + Im1[i-1,j] - Im1[i,j] - Im1[i,j]\n",
      "        Hss[1,1]=Im1[i,j+1] + Im1[i,j-1]- Im1[i,j]- Im1[i,j]\n",
      "        Hss[1,0]=(Im1[i+1,j+1]+Im1[i-1,j-1]+Im1[i,j]+Im1[i,j]-Im1[i+1,j]-Im1[i-1,j]-Im1[i,j+1]-Im1[i,j-1])/2.0\n",
      "        Hss[0,1]=Hss[1,0]\n",
      "        eigenvalues, eigenvectors = eig(Hss)\n",
      "        f.write(str(i))\n",
      "        f.write(' ')\n",
      "        f.write(str(j))\n",
      "        f.write(' ')\n",
      "        for k in range(0,size(eigenvalues)):\n",
      "            f.write(str(eigenvalues[k]))\n",
      "            f.write(' ')\n",
      "        f.write(str(eigenvectors[0,0]))\n",
      "        f.write(' ')\n",
      "        f.write(str(eigenvectors[1,0]))\n",
      "        f.write(' ')\n",
      "        f.write(str(eigenvectors[0,1]))\n",
      "        f.write(' ')\n",
      "        f.write(str(eigenvectors[1,1]))\n",
      "        f.write(' ')\n",
      "        f.write('\\n')"
     ],
     "language": "python",
     "metadata": {},
     "outputs": []
    },
    {
     "cell_type": "code",
     "collapsed": false,
     "input": [],
     "language": "python",
     "metadata": {},
     "outputs": []
    },
    {
     "cell_type": "code",
     "collapsed": false,
     "input": [],
     "language": "python",
     "metadata": {},
     "outputs": []
    },
    {
     "cell_type": "code",
     "collapsed": false,
     "input": [],
     "language": "python",
     "metadata": {},
     "outputs": []
    }
   ],
   "metadata": {}
  }
 ]
}