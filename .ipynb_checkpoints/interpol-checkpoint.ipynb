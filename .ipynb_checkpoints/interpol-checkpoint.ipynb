{
 "metadata": {
  "name": "",
  "signature": "sha256:ca056b3b7fe12480ec8f2dcc59ba84f2aa0db4425641a41aa1e1762b575a0207"
 },
 "nbformat": 3,
 "nbformat_minor": 0,
 "worksheets": []
}